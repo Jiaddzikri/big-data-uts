{
 "cells": [
  {
   "cell_type": "code",
   "execution_count": 354,
   "id": "67d7a124-90ec-4f0b-badf-140906f0a3d4",
   "metadata": {},
   "outputs": [],
   "source": [
    "import pandas as pd\n",
    "from sklearn.feature_selection import SelectKBest\n",
    "from sklearn.feature_selection import f_regression"
   ]
  },
  {
   "cell_type": "code",
   "execution_count": 355,
   "id": "ad2f6d73-69fc-4664-94de-4318a52a37c0",
   "metadata": {},
   "outputs": [],
   "source": [
    "data = pd.read_csv(\"honda_car_selling.csv\")"
   ]
  },
  {
   "cell_type": "code",
   "execution_count": 356,
   "id": "6ccecb24-0c76-4ed8-8646-a78a819444d5",
   "metadata": {},
   "outputs": [],
   "source": [
    "data_cleaned = data.dropna()"
   ]
  },
  {
   "cell_type": "code",
   "execution_count": 357,
   "id": "25d3d53b-c784-4569-a546-c1e70efda047",
   "metadata": {},
   "outputs": [
    {
     "name": "stdout",
     "output_type": "stream",
     "text": [
      "     Year  kms Driven Fuel Type  Suspension  Price                 Car Model\n",
      "0    2019       19006   Petrol    Automatic   9.29          Honda City V CVT\n",
      "1    2021       11936   Petrol    Automatic  13.95         Honda City ZX CVT\n",
      "2    2018       29635   Petrol    Automatic   9.95  Honda City i-VTEC CVT ZX\n",
      "3    2020       16163   Petrol    Automatic  13.26         Honda City ZX CVT\n",
      "4    2015      105114   Petrol       Manual   5.68       Honda City i VTEC V\n",
      "..    ...         ...       ...         ...    ...                       ...\n",
      "994  2007       90000   Petrol       Manual   1.22      Honda Civic 1.8 V MT\n",
      "995  2016       31500   Petrol       Manual   4.25      Honda Amaze S i-VTEC\n",
      "996  2017       39735   Petrol       Manual   5.10      Honda Amaze S Petrol\n",
      "997  2017       36000   Petrol       Manual   6.10       Honda City i VTEC S\n",
      "998  2015       35341   Diesel       Manual   3.00     Honda Amaze S i-Dtech\n",
      "\n",
      "[999 rows x 6 columns]\n"
     ]
    }
   ],
   "source": [
    "data_cleaned['Price'] = data_cleaned['Price'].str.replace(',', '', regex=True).str.replace(\" Lakh\", \"\").astype(float)\n",
    "data_cleaned['kms Driven'] = data['kms Driven'].str.replace(\" kms\", \"\").astype(int)\n",
    "data_cleaned['Fuel Type'] = data_cleaned['Fuel Type'].astype('category')\n",
    "data_cleaned['Suspension'] = data_cleaned['Suspension'].astype('category')\n",
    "data_cleaned['Car Model'] = data_cleaned['Car Model'].astype('category')\n",
    "print(data_cleaned)"
   ]
  },
  {
   "cell_type": "code",
   "execution_count": 358,
   "id": "1142377f-8218-4500-bc77-e5efc5f2d80e",
   "metadata": {},
   "outputs": [],
   "source": [
    "data_cleaned = pd.get_dummies(data_cleaned, columns=['Fuel Type', 'Suspension', 'Car Model'])"
   ]
  },
  {
   "cell_type": "code",
   "execution_count": 359,
   "id": "e6847fba-6784-4d31-b7bb-4569ba0170d6",
   "metadata": {},
   "outputs": [],
   "source": [
    "features = ['Year', 'kms Driven'] + list(data_cleaned.columns[4:])"
   ]
  },
  {
   "cell_type": "code",
   "execution_count": 360,
   "id": "7e0a831d-ef57-4ed6-b8ca-be1b2f0ab5f8",
   "metadata": {},
   "outputs": [],
   "source": [
    "X = data_cleaned[features]\n",
    "y = data_cleaned['Price']\n",
    "\n",
    "selector = SelectKBest(score_func=f_regression, k=3)\n",
    "X_new = selector.fit_transform(X, y);"
   ]
  },
  {
   "cell_type": "code",
   "execution_count": 361,
   "id": "c5da2bc1-7ea4-4d6c-83e5-f9a15547e4cb",
   "metadata": {},
   "outputs": [],
   "source": [
    "choosen_features = []\n",
    "for i in range(len(features)):\n",
    "    if selector.get_support()[i]:\n",
    "        choosen_features.append(features[i])"
   ]
  },
  {
   "cell_type": "code",
   "execution_count": 362,
   "id": "6092c7c5-acc4-4eff-9432-88a2a55918d3",
   "metadata": {},
   "outputs": [
    {
     "name": "stdout",
     "output_type": "stream",
     "text": [
      "Fitur terpilih: ['Car Model_Honda City 1.5 GXI', 'Car Model_Honda City GXi', 'Car Model_Honda Civic 1.8 S MT']\n"
     ]
    }
   ],
   "source": [
    "print(\"Fitur terpilih:\", choosen_features)"
   ]
  },
  {
   "cell_type": "code",
   "execution_count": null,
   "id": "4c00333b-c508-4cba-a69c-464a45bb68cd",
   "metadata": {},
   "outputs": [],
   "source": []
  }
 ],
 "metadata": {
  "kernelspec": {
   "display_name": "Python 3 (ipykernel)",
   "language": "python",
   "name": "python3"
  },
  "language_info": {
   "codemirror_mode": {
    "name": "ipython",
    "version": 3
   },
   "file_extension": ".py",
   "mimetype": "text/x-python",
   "name": "python",
   "nbconvert_exporter": "python",
   "pygments_lexer": "ipython3",
   "version": "3.12.3"
  }
 },
 "nbformat": 4,
 "nbformat_minor": 5
}
